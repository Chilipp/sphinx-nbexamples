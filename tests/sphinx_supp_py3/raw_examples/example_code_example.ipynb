{
 "cells": [
  {
   "cell_type": "markdown",
   "metadata": {},
   "source": [
    "Example with a code command instead of a figure\n",
    "===============\n",
    "This test notebook has the ```code_example``` metadata attribute specified to be shown instead of a thumbnail"
   ]
  }
 ],
 "metadata": {
  "code_example": "somecode",
  "kernelspec": {
   "display_name": "Python 3",
   "language": "python",
   "name": "python3"
  },
  "language_info": {
   "codemirror_mode": {
    "name": "ipython",
    "version": 3
   },
   "file_extension": ".py",
   "mimetype": "text/x-python",
   "name": "python",
   "nbconvert_exporter": "python",
   "pygments_lexer": "ipython3",
   "version": "3.5.0rc4"
  }
 },
 "nbformat": 4,
 "nbformat_minor": 0
}
