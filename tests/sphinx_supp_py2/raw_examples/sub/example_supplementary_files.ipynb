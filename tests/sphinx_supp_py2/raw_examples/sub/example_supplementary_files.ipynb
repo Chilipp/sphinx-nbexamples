{
 "cells": [
  {
   "cell_type": "markdown",
   "metadata": {},
   "source": [
    "Test with supplementary files\n",
    "=============================\n",
    "This notebook requires some supplementary files which should be included in the documentation"
   ]
  },
  {
   "cell_type": "code",
   "execution_count": 1,
   "metadata": {
    "collapsed": false
   },
   "outputs": [
    {
     "name": "stdout",
     "output_type": "stream",
     "text": [
      "Just a dummy file\n",
      "\n"
     ]
    }
   ],
   "source": [
    "with open('test.txt')as f:\n",
    "    print(f.read())"
   ]
  }
 ],
 "metadata": {
  "kernelspec": {
   "display_name": "Python 2",
   "language": "python",
   "name": "python2"
  },
  "language_info": {
   "codemirror_mode": {
    "name": "ipython",
    "version": 3
   },
   "file_extension": ".py",
   "mimetype": "text/x-python",
   "name": "python",
   "nbconvert_exporter": "python",
   "pygments_lexer": "ipython2",
   "version": "3.5.0rc4"
  },
  "supplementary_files": [
   "test.txt"
  ]
 },
 "nbformat": 4,
 "nbformat_minor": 0
}
