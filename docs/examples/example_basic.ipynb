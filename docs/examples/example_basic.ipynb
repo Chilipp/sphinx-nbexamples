{
 "cells": [
  {
   "cell_type": "markdown",
   "metadata": {},
   "source": [
    "\n",
    "# Basic example\n",
    "\n",
    "\n",
    "This example notebook demonstrates as a basic example how sphinx-nbgallery \n",
    "works.\n"
   ]
  },
  {
   "cell_type": "markdown",
   "metadata": {},
   "source": [
    "You can edit the metadata of the notebook as shown in the screenshot below and include supplementary files, select an image for displaying it in the gallery or provide a code example.\n",
    "\n",
    "![Edit metadata](images/select_metadata.png)"
   ]
  },
  {
   "cell_type": "markdown",
   "metadata": {
    "collapsed": true
   },
   "source": [
    "Otherwise you can do whatever you want. You can also include ipython magic commands, e.g `%matplotlib inline`"
   ]
  },
  {
   "cell_type": "code",
   "execution_count": null,
   "metadata": {
    "collapsed": true
   },
   "outputs": [],
   "source": [
    "%matplotlib inline"
   ]
  },
  {
   "cell_type": "markdown",
   "metadata": {},
   "source": [
    "which then will be (as well as all the warnings) removed in the rendered html file of your example."
   ]
  },
  {
   "cell_type": "markdown",
   "metadata": {},
   "source": [
    "By default, the sphinx-nbgallery looks for pictures you created with matplotlib and saved it in the notebook. If such a picture exists, it uses the last created picture as a thumbnail in the gallery. For this example, we modified the the `thumbnail_figure` key of the notebook metadata to use our own picture (the one you see above)."
   ]
  },
  {
   "cell_type": "code",
   "execution_count": null,
   "metadata": {
    "collapsed": false
   },
   "outputs": [],
   "source": [
    "import matplotlib.pyplot as plt\n",
    "import numpy as np\n",
    "import seaborn as sns"
   ]
  },
  {
   "cell_type": "code",
   "execution_count": null,
   "metadata": {
    "collapsed": false
   },
   "outputs": [],
   "source": [
    "x = np.linspace(-np.pi, np.pi, 300)\n",
    "\n",
    "xx, yy = np.meshgrid(x, x)\n",
    "z = (np.sin(xx) + np.sin(yy)) ** 2\n",
    "\n",
    "plt.figure()\n",
    "plt.imshow(z, cmap='Greens')\n",
    "plt.colorbar()"
   ]
  }
 ],
 "metadata": {
  "kernelspec": {
   "display_name": "Python 3",
   "language": "python",
   "name": "python3"
  },
  "language_info": {
   "codemirror_mode": {
    "name": "ipython",
    "version": 3
   },
   "file_extension": ".py",
   "mimetype": "text/x-python",
   "name": "python",
   "nbconvert_exporter": "python",
   "pygments_lexer": "ipython3",
   "version": "3.5.0rc4"
  },
  "other_supplementary_files": [
   "images/select_metadata.png"
  ],
  "thumbnail_figure": "images/select_metadata.png"
 },
 "nbformat": 4,
 "nbformat_minor": 0
}
